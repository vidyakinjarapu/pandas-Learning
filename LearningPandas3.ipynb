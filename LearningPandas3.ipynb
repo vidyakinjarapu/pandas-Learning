{
 "cells": [
  {
   "cell_type": "markdown",
   "metadata": {},
   "source": [
    "# Reading and Writing from excel "
   ]
  },
  {
   "cell_type": "code",
   "execution_count": 23,
   "metadata": {},
   "outputs": [
    {
     "data": {
      "text/html": [
       "<div>\n",
       "<style scoped>\n",
       "    .dataframe tbody tr th:only-of-type {\n",
       "        vertical-align: middle;\n",
       "    }\n",
       "\n",
       "    .dataframe tbody tr th {\n",
       "        vertical-align: top;\n",
       "    }\n",
       "\n",
       "    .dataframe thead th {\n",
       "        text-align: right;\n",
       "    }\n",
       "</style>\n",
       "<table border=\"1\" class=\"dataframe\">\n",
       "  <thead>\n",
       "    <tr style=\"text-align: right;\">\n",
       "      <th></th>\n",
       "      <th>tickers</th>\n",
       "      <th>eps</th>\n",
       "      <th>revenue</th>\n",
       "      <th>price</th>\n",
       "      <th>people</th>\n",
       "    </tr>\n",
       "  </thead>\n",
       "  <tbody>\n",
       "    <tr>\n",
       "      <td>0</td>\n",
       "      <td>GOOGL</td>\n",
       "      <td>27.82</td>\n",
       "      <td>87.0</td>\n",
       "      <td>845.0</td>\n",
       "      <td>larry page</td>\n",
       "    </tr>\n",
       "    <tr>\n",
       "      <td>1</td>\n",
       "      <td>WMT</td>\n",
       "      <td>4.61</td>\n",
       "      <td>484.0</td>\n",
       "      <td>65.0</td>\n",
       "      <td>Sam Walton</td>\n",
       "    </tr>\n",
       "    <tr>\n",
       "      <td>2</td>\n",
       "      <td>MSFT</td>\n",
       "      <td>-1.00</td>\n",
       "      <td>85.0</td>\n",
       "      <td>64.0</td>\n",
       "      <td>bill gates</td>\n",
       "    </tr>\n",
       "    <tr>\n",
       "      <td>3</td>\n",
       "      <td>RIL</td>\n",
       "      <td>NaN</td>\n",
       "      <td>50.0</td>\n",
       "      <td>1023.0</td>\n",
       "      <td>mukesh ambani</td>\n",
       "    </tr>\n",
       "    <tr>\n",
       "      <td>4</td>\n",
       "      <td>TATA</td>\n",
       "      <td>5.60</td>\n",
       "      <td>NaN</td>\n",
       "      <td>NaN</td>\n",
       "      <td>ratan tata</td>\n",
       "    </tr>\n",
       "  </tbody>\n",
       "</table>\n",
       "</div>"
      ],
      "text/plain": [
       "  tickers    eps  revenue   price         people\n",
       "0   GOOGL  27.82     87.0   845.0     larry page\n",
       "1     WMT   4.61    484.0    65.0     Sam Walton\n",
       "2    MSFT  -1.00     85.0    64.0     bill gates\n",
       "3     RIL    NaN     50.0  1023.0  mukesh ambani\n",
       "4    TATA   5.60      NaN     NaN     ratan tata"
      ]
     },
     "execution_count": 23,
     "metadata": {},
     "output_type": "execute_result"
    }
   ],
   "source": [
    "import pandas as pd\n",
    "#Writing a function which converts na values people column\n",
    "def convert_people_cell(cell): \n",
    "    if cell == 'n.a.':\n",
    "        return 'Sam Walton'\n",
    "    return cell\n",
    "def convert_eps(cell):\n",
    "    if cell == 'Not Available':\n",
    "        return None\n",
    "    return cell\n",
    "        \n",
    "def gen_converter(cell):\n",
    "    if cell == 'n.a.':\n",
    "        return None\n",
    "    elif cell == 'Not Available':\n",
    "        return None\n",
    "    elif cell == -1:\n",
    "        return None\n",
    "    return cell\n",
    "    \n",
    "df = pd.read_excel(\"Stock_data.xlsx\", converters = {\n",
    "    'people' : convert_people_cell,\n",
    "    'eps' : convert_eps,\n",
    "    'price' : gen_converter,\n",
    "    'revenue' : gen_converter\n",
    "})\n",
    "\n",
    "df"
   ]
  },
  {
   "cell_type": "code",
   "execution_count": 32,
   "metadata": {},
   "outputs": [],
   "source": [
    "df.to_excel(\"new.xlsx\", sheet_name = \"Stocks\", startrow=1, startcol=2, index=False)"
   ]
  },
  {
   "cell_type": "code",
   "execution_count": 39,
   "metadata": {},
   "outputs": [],
   "source": [
    "#Writing two data frames to the same excel files\n",
    "df_stocks = pd.DataFrame({\n",
    "    'tickers' : ['GOOGL', 'MSFT', 'WMT'],\n",
    "    'eps' : [23.6, 16.3, 28.5],\n",
    "    'price' : [847, 735, 345],\n",
    "    'pe' : [3, 6.7, 6.9]\n",
    "})\n",
    "df_weather = pd.DataFrame({\n",
    "    'Day' : ['1/2/2020', '3/2/2020', '5/2/2020'],\n",
    "    'Temperature' : [45, 23, 22],\n",
    "    'event' : ['sunny', 'foggy', 'snow']\n",
    "})\n",
    "\n",
    "with pd.ExcelWriter(\"Stock-Weather.xlsx\") as Writer:\n",
    "    df_stocks.to_excel(Writer, sheet_name=\"stocks\", index=False)\n",
    "    df_weather.to_excel(Writer, sheet_name=\"weather\", index=False)"
   ]
  },
  {
   "cell_type": "code",
   "execution_count": null,
   "metadata": {},
   "outputs": [],
   "source": []
  }
 ],
 "metadata": {
  "kernelspec": {
   "display_name": "Python 3",
   "language": "python",
   "name": "python3"
  },
  "language_info": {
   "codemirror_mode": {
    "name": "ipython",
    "version": 3
   },
   "file_extension": ".py",
   "mimetype": "text/x-python",
   "name": "python",
   "nbconvert_exporter": "python",
   "pygments_lexer": "ipython3",
   "version": "3.7.4"
  }
 },
 "nbformat": 4,
 "nbformat_minor": 2
}
